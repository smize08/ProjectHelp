{
 "cells": [
  {
   "cell_type": "markdown",
   "metadata": {},
   "source": [
    "<a href=\"https://cognitiveclass.ai/?utm_medium=Exinfluencer&utm_source=Exinfluencer&utm_content=000026UJ&utm_term=10006555&utm_id=NA-SkillsNetwork-Channel-SkillsNetworkCoursesIBMDeveloperSkillsNetworkRP0101ENCoursera23911160-2022-01-01\">\n",
    "    <img src=\"https://cf-courses-data.s3.us.cloud-object-storage.appdomain.cloud/IBMDeveloperSkillsNetwork-RP0101EN-Coursera/v2/M1_R_Basics/images/IDSNlogo.png\" width=\"200\" align=\"center\">\n",
    "</a>\n"
   ]
  },
  {
   "cell_type": "markdown",
   "metadata": {},
   "source": [
    "<h1>Analysis of Global COVID-19 Pandemic Data</h1>\n",
    "\n",
    "Estimated time needed: **90** minutes\n"
   ]
  },
  {
   "cell_type": "markdown",
   "metadata": {},
   "source": [
    "## Overview:\n",
    "\n",
    "There are 10 tasks in this final project. All tasks will be graded by your peers who are also completing this assignment within the same session.\n",
    "\n",
    "You need to submit the following the screenshot for the code and output for each task for review.\n",
    "\n",
    "If you need to refresh your memories about specific coding details, you may refer to previous hands-on labs for code examples.\n"
   ]
  },
  {
   "cell_type": "code",
   "execution_count": 2,
   "metadata": {},
   "outputs": [
    {
     "name": "stderr",
     "output_type": "stream",
     "text": [
      "Loading required package: httr\n",
      "Loading required package: rvest\n",
      "Loading required package: xml2\n"
     ]
    }
   ],
   "source": [
    "require(\"httr\")\n",
    "require(\"rvest\")\n",
    "\n",
    "library(httr)\n",
    "library(rvest)"
   ]
  },
  {
   "cell_type": "markdown",
   "metadata": {},
   "source": [
    "Note: if you can import above libraries, please use install.packages() to install them first.\n"
   ]
  },
  {
   "cell_type": "markdown",
   "metadata": {},
   "source": [
    "## TASK 1: Get a `COVID-19 pandemic` Wiki page using HTTP request\n"
   ]
  },
  {
   "cell_type": "raw",
   "metadata": {},
   "source": [
    "First, let's write a function to use HTTP request to get a public COVID-19 Wiki page.\n",
    "\n",
    "Before you write the function, you can open this public page from this\n",
    "\n",
    "URL [https://en.wikipedia.org/w/index.php?title=Template\\:COVID-19\\_testing_by_country](https://en.wikipedia.org/w/index.php?utm_medium=Exinfluencer&utm_source=Exinfluencer&utm_content=000026UJ&utm_term=10006555&utm_id=NA-SkillsNetwork-Channel-SkillsNetworkCoursesIBMDeveloperSkillsNetworkRP0101ENCoursera23911160-2022-01-01&title=Template%3ACOVID-19\\_testing_by_country) using a web browser.\n",
    "\n",
    "The goal of task 1 is to get the html page using HTTP request (`httr` library)\n"
   ]
  },
  {
   "cell_type": "code",
   "execution_count": 3,
   "metadata": {},
   "outputs": [],
   "source": [
    "\n",
    "get_wiki_covid19_page <- function() {\n",
    "    \n",
    "  # Our target COVID-19 wiki page URL is: https://en.wikipedia.org/w/index.php?title=Template:COVID-19_testing_by_country  \n",
    "  # Which has two parts: \n",
    "    # 1) base URL `https://en.wikipedia.org/w/index.php  \n",
    "    # 2) URL parameter: `title=Template:COVID-19_testing_by_country`, seperated by question mark ?\n",
    "   \n",
    "  # Wiki page base\n",
    "   wiki_base_url <- \"https://en.wikipedia.org/w/index.php\"\n",
    "   url_parameter <- \"title=Template:COVID-19_testing_by_country\"\n",
    "  # You will need to create a List which has an element called `title` to specify which page you want to get from Wiki\n",
    "  # in our case, it will be `Template:COVID-19_testing_by_country`\n",
    "    covid19_url<-paste(wiki_base_url, url_parameter, sep = \"?\")\n",
    "  # - Use the `GET` function in httr library with a `url` argument and a `query` arugment to get a HTTP response\n",
    "    response<-GET(covid19_url)\n",
    "  # Use the `return` function to return the response\n",
    "return(response)\n",
    "}\n"
   ]
  },
  {
   "cell_type": "markdown",
   "metadata": {},
   "source": [
    "Call the `get_wiki_covid19_page` function to get a http response with the target html page\n"
   ]
  },
  {
   "cell_type": "code",
   "execution_count": 4,
   "metadata": {},
   "outputs": [
    {
     "data": {
      "text/plain": [
       "Response [https://en.wikipedia.org/w/index.php?title=Template:COVID-19_testing_by_country]\n",
       "  Date: 2022-08-19 10:43\n",
       "  Status: 200\n",
       "  Content-Type: text/html; charset=UTF-8\n",
       "  Size: 415 kB\n",
       "<!DOCTYPE html>\n",
       "<html class=\"client-nojs\" lang=\"en\" dir=\"ltr\">\n",
       "<head>\n",
       "<meta charset=\"UTF-8\"/>\n",
       "<title>Template:COVID-19 testing by country - Wikipedia</title>\n",
       "<script>document.documentElement.className=\"client-js\";RLCONF={\"wgBreakFrames...\n",
       "\"CS1 German-language sources (de)\",\"CS1 Azerbaijani-language sources (az)\",\"C...\n",
       "\"CS1 uses Japanese-language script (ja)\",\"CS1 Japanese-language sources (ja)\"...\n",
       "\"COVID-19 pandemic templates\"],\"wgPageContentLanguage\":\"en\",\"wgPageContentMod...\n",
       "\"wgEditSubmitButtonLabelPublish\":true,\"wgCentralAuthMobileDomain\":false,\"wgUL...\n",
       "..."
      ]
     },
     "metadata": {},
     "output_type": "display_data"
    }
   ],
   "source": [
    "response = get_wiki_covid19_page()\n",
    "response"
   ]
  },
  {
   "cell_type": "markdown",
   "metadata": {},
   "source": [
    "## TASK 2: Extract COVID-19 testing data table from the wiki HTML page\n"
   ]
  },
  {
   "cell_type": "markdown",
   "metadata": {},
   "source": [
    "On the COVID-19 testing wiki page, you should see a data table `<table>` node contains COVID-19 testing data by country on the page:\n",
    "\n",
    "<a href=\"https://cognitiveclass.ai/?utm_medium=Exinfluencer&utm_source=Exinfluencer&utm_content=000026UJ&utm_term=10006555&utm_id=NA-SkillsNetwork-Channel-SkillsNetworkCoursesIBMDeveloperSkillsNetworkRP0101ENCoursera23911160-2022-01-01\">\n",
    "    <img src=\"https://cf-courses-data.s3.us.cloud-object-storage.appdomain.cloud/IBMDeveloperSkillsNetwork-RP0101EN-Coursera/v2/M5_Final/images/covid-19-by-country.png\" width=\"400\" align=\"center\">\n",
    "</a>\n",
    "\n",
    "Note the numbers you actually see on your page may be different from above because it is still an on-going pandemic when creating this notebook.\n",
    "\n",
    "The goal of task 2 is to extract above data table and convert it into a data frame\n"
   ]
  },
  {
   "cell_type": "markdown",
   "metadata": {},
   "source": [
    "Now use the `read_html` function in rvest library to get the root html node from response\n"
   ]
  },
  {
   "cell_type": "code",
   "execution_count": 5,
   "metadata": {
    "tags": []
   },
   "outputs": [
    {
     "data": {
      "text/plain": [
       "{html_document}\n",
       "<html class=\"client-nojs\" lang=\"en\" dir=\"ltr\">\n",
       "[1] <head>\\n<meta http-equiv=\"Content-Type\" content=\"text/html; charset=UTF-8 ...\n",
       "[2] <body class=\"mediawiki ltr sitedir-ltr mw-hide-empty-elt ns-10 ns-subject ..."
      ]
     },
     "metadata": {},
     "output_type": "display_data"
    }
   ],
   "source": [
    "root_node<-read_html(response)\n",
    "root_node"
   ]
  },
  {
   "cell_type": "raw",
   "metadata": {},
   "source": [
    "Get the first table in the HTML root node using `html_node` function\n"
   ]
  },
  {
   "cell_type": "code",
   "execution_count": 6,
   "metadata": {},
   "outputs": [
    {
     "data": {
      "text/plain": [
       "{html_node}\n",
       "<table class=\"wikitable plainrowheaders sortable collapsible autocollapse\">\n",
       "[1] <caption>\\n<style data-mw-deduplicate=\"TemplateStyles:r1063604349\">.mw-pa ...\n",
       "[2] <tbody>\\n<tr>\\n<th>Country or region\\n</th>\\n<th>Date<sup id=\"cite_ref-1\" ..."
      ]
     },
     "metadata": {},
     "output_type": "display_data"
    }
   ],
   "source": [
    "table_node<-html_node(root_node,\"table\")\n",
    "table_node"
   ]
  },
  {
   "cell_type": "markdown",
   "metadata": {},
   "source": [
    "Read the table node as a data frame using `html_table` function\n"
   ]
  },
  {
   "cell_type": "code",
   "execution_count": 7,
   "metadata": {},
   "outputs": [
    {
     "data": {
      "text/html": [
       "<table>\n",
       "<caption>A data.frame: 6 × 9</caption>\n",
       "<thead>\n",
       "\t<tr><th></th><th scope=col>Country or region</th><th scope=col>Date[a]</th><th scope=col>Tested</th><th scope=col>Units[b]</th><th scope=col>Confirmed(cases)</th><th scope=col>Confirmed /tested,%</th><th scope=col>Tested /population,%</th><th scope=col>Confirmed /population,%</th><th scope=col>Ref.</th></tr>\n",
       "\t<tr><th></th><th scope=col>&lt;chr&gt;</th><th scope=col>&lt;chr&gt;</th><th scope=col>&lt;chr&gt;</th><th scope=col>&lt;chr&gt;</th><th scope=col>&lt;chr&gt;</th><th scope=col>&lt;chr&gt;</th><th scope=col>&lt;chr&gt;</th><th scope=col>&lt;chr&gt;</th><th scope=col>&lt;chr&gt;</th></tr>\n",
       "</thead>\n",
       "<tbody>\n",
       "\t<tr><th scope=row>1</th><td>Afghanistan        </td><td>17 Dec 2020</td><td>154,767</td><td>samples</td><td>49,621</td><td>32.1</td><td>0.40</td><td>0.13 </td><td>[1]   </td></tr>\n",
       "\t<tr><th scope=row>2</th><td>Albania            </td><td>18 Feb 2021</td><td>428,654</td><td>samples</td><td>96,838</td><td>22.6</td><td>15.0</td><td>3.4  </td><td>[2]   </td></tr>\n",
       "\t<tr><th scope=row>3</th><td>Algeria            </td><td>2 Nov 2020 </td><td>230,553</td><td>samples</td><td>58,574</td><td>25.4</td><td>0.53</td><td>0.13 </td><td>[3][4]</td></tr>\n",
       "\t<tr><th scope=row>4</th><td>Andorra            </td><td>23 Feb 2022</td><td>300,307</td><td>samples</td><td>37,958</td><td>12.6</td><td>387 </td><td>49.0 </td><td>[5]   </td></tr>\n",
       "\t<tr><th scope=row>5</th><td>Angola             </td><td>2 Feb 2021 </td><td>399,228</td><td>samples</td><td>20,981</td><td>5.3 </td><td>1.3 </td><td>0.067</td><td>[6]   </td></tr>\n",
       "\t<tr><th scope=row>6</th><td>Antigua and Barbuda</td><td>6 Mar 2021 </td><td>15,268 </td><td>samples</td><td>832   </td><td>5.4 </td><td>15.9</td><td>0.86 </td><td>[7]   </td></tr>\n",
       "</tbody>\n",
       "</table>\n"
      ],
      "text/latex": [
       "A data.frame: 6 × 9\n",
       "\\begin{tabular}{r|lllllllll}\n",
       "  & Country or region & Date{[}a{]} & Tested & Units{[}b{]} & Confirmed(cases) & Confirmed /tested,\\% & Tested /population,\\% & Confirmed /population,\\% & Ref.\\\\\n",
       "  & <chr> & <chr> & <chr> & <chr> & <chr> & <chr> & <chr> & <chr> & <chr>\\\\\n",
       "\\hline\n",
       "\t1 & Afghanistan         & 17 Dec 2020 & 154,767 & samples & 49,621 & 32.1 & 0.40 & 0.13  & {[}1{]}   \\\\\n",
       "\t2 & Albania             & 18 Feb 2021 & 428,654 & samples & 96,838 & 22.6 & 15.0 & 3.4   & {[}2{]}   \\\\\n",
       "\t3 & Algeria             & 2 Nov 2020  & 230,553 & samples & 58,574 & 25.4 & 0.53 & 0.13  & {[}3{]}{[}4{]}\\\\\n",
       "\t4 & Andorra             & 23 Feb 2022 & 300,307 & samples & 37,958 & 12.6 & 387  & 49.0  & {[}5{]}   \\\\\n",
       "\t5 & Angola              & 2 Feb 2021  & 399,228 & samples & 20,981 & 5.3  & 1.3  & 0.067 & {[}6{]}   \\\\\n",
       "\t6 & Antigua and Barbuda & 6 Mar 2021  & 15,268  & samples & 832    & 5.4  & 15.9 & 0.86  & {[}7{]}   \\\\\n",
       "\\end{tabular}\n"
      ],
      "text/markdown": [
       "\n",
       "A data.frame: 6 × 9\n",
       "\n",
       "| <!--/--> | Country or region &lt;chr&gt; | Date[a] &lt;chr&gt; | Tested &lt;chr&gt; | Units[b] &lt;chr&gt; | Confirmed(cases) &lt;chr&gt; | Confirmed /tested,% &lt;chr&gt; | Tested /population,% &lt;chr&gt; | Confirmed /population,% &lt;chr&gt; | Ref. &lt;chr&gt; |\n",
       "|---|---|---|---|---|---|---|---|---|---|\n",
       "| 1 | Afghanistan         | 17 Dec 2020 | 154,767 | samples | 49,621 | 32.1 | 0.40 | 0.13  | [1]    |\n",
       "| 2 | Albania             | 18 Feb 2021 | 428,654 | samples | 96,838 | 22.6 | 15.0 | 3.4   | [2]    |\n",
       "| 3 | Algeria             | 2 Nov 2020  | 230,553 | samples | 58,574 | 25.4 | 0.53 | 0.13  | [3][4] |\n",
       "| 4 | Andorra             | 23 Feb 2022 | 300,307 | samples | 37,958 | 12.6 | 387  | 49.0  | [5]    |\n",
       "| 5 | Angola              | 2 Feb 2021  | 399,228 | samples | 20,981 | 5.3  | 1.3  | 0.067 | [6]    |\n",
       "| 6 | Antigua and Barbuda | 6 Mar 2021  | 15,268  | samples | 832    | 5.4  | 15.9 | 0.86  | [7]    |\n",
       "\n"
      ],
      "text/plain": [
       "  Country or region   Date[a]     Tested  Units[b] Confirmed(cases)\n",
       "1 Afghanistan         17 Dec 2020 154,767 samples  49,621          \n",
       "2 Albania             18 Feb 2021 428,654 samples  96,838          \n",
       "3 Algeria             2 Nov 2020  230,553 samples  58,574          \n",
       "4 Andorra             23 Feb 2022 300,307 samples  37,958          \n",
       "5 Angola              2 Feb 2021  399,228 samples  20,981          \n",
       "6 Antigua and Barbuda 6 Mar 2021  15,268  samples  832             \n",
       "  Confirmed /tested,% Tested /population,% Confirmed /population,% Ref.  \n",
       "1 32.1                0.40                 0.13                    [1]   \n",
       "2 22.6                15.0                 3.4                     [2]   \n",
       "3 25.4                0.53                 0.13                    [3][4]\n",
       "4 12.6                387                  49.0                    [5]   \n",
       "5 5.3                 1.3                  0.067                   [6]   \n",
       "6 5.4                 15.9                 0.86                    [7]   "
      ]
     },
     "metadata": {},
     "output_type": "display_data"
    }
   ],
   "source": [
    "covid19_data_frame<-html_table(table_node)\n",
    "head(covid19_data_frame,)"
   ]
  },
  {
   "cell_type": "markdown",
   "metadata": {},
   "source": [
    "## TASK 3: Pre-process and export the extracted data frame\n",
    "\n",
    "The goal of task 3 is to pre-process the extracted data frame from the previous step, and export it as a csv file\n"
   ]
  },
  {
   "cell_type": "markdown",
   "metadata": {},
   "source": [
    "Let's get a summary of the data frame\n"
   ]
  },
  {
   "cell_type": "code",
   "execution_count": 8,
   "metadata": {},
   "outputs": [
    {
     "data": {
      "text/plain": [
       " Country or region    Date[a]             Tested            Units[b]        \n",
       " Length:173         Length:173         Length:173         Length:173        \n",
       " Class :character   Class :character   Class :character   Class :character  \n",
       " Mode  :character   Mode  :character   Mode  :character   Mode  :character  \n",
       " Confirmed(cases)   Confirmed /tested,% Tested /population,%\n",
       " Length:173         Length:173          Length:173          \n",
       " Class :character   Class :character    Class :character    \n",
       " Mode  :character   Mode  :character    Mode  :character    \n",
       " Confirmed /population,%     Ref.          \n",
       " Length:173              Length:173        \n",
       " Class :character        Class :character  \n",
       " Mode  :character        Mode  :character  "
      ]
     },
     "metadata": {},
     "output_type": "display_data"
    }
   ],
   "source": [
    "summary(covid19_data_frame)"
   ]
  },
  {
   "cell_type": "markdown",
   "metadata": {},
   "source": [
    "As you can see from the summary, the columns names are little bit different to understand and some column data types are not correct. For example, the `Tested` column shows as `character`.\n",
    "\n",
    "As such, the data frame read from HTML table will need some pre-processing such as removing irrelvant columns, renaming columns, and convert columns into proper data types.\n"
   ]
  },
  {
   "cell_type": "markdown",
   "metadata": {},
   "source": [
    "We have prepared a pre-processing function for you to conver the data frame but you can also try to write one by yourself\n"
   ]
  },
  {
   "cell_type": "code",
   "execution_count": 9,
   "metadata": {},
   "outputs": [],
   "source": [
    "preprocess_data_frame <- function(covid19_data_frame) {\n",
    "    \n",
    "    shape <- dim(covid19_data_frame)\n",
    "\n",
    "    # Remove the World row\n",
    "    data_frame<-covid19_data_frame[!(covid19_data_frame$`Country or region`==\"World\"),]\n",
    "    # Remove the last row\n",
    "    data_frame <- covid19_data_frame[1:172, ]\n",
    "    \n",
    "    # We dont need the Units and Ref columns, so can be removed\n",
    "    covid19_data_frame[\"Ref.\"] <- NULL\n",
    "    covid19_data_frame[\"Units[b]\"] <- NULL\n",
    "    \n",
    "    # Renaming the columns\n",
    "    names(covid19_data_frame) <- c(\"country\", \"date\", \"tested\", \"confirmed\", \"confirmed.tested.ratio\", \"tested.population.ratio\", \"confirmed.population.ratio\")\n",
    "    \n",
    "    # Convert column data types\n",
    "    data_frame$country <- as.factor(covid19_data_frame$country)\n",
    "    data_frame$date <- as.factor(covid19_data_frame$date)\n",
    "    data_frame$tested <- as.numeric(gsub(\",\",\"\",covid19_data_frame$tested))\n",
    "    data_frame$confirmed <- as.numeric(gsub(\",\",\"\",covid19_data_frame$confirmed))\n",
    "    data_frame$'confirmed.tested.ratio' <- as.numeric(gsub(\",\",\"\",covid19_data_frame$`confirmed.tested.ratio`))\n",
    "    data_frame$'tested.population.ratio' <- as.numeric(gsub(\",\",\"\",covid19_data_frame$`tested.population.ratio`))\n",
    "    data_frame$'confirmed.population.ratio' <- as.numeric(gsub(\",\",\"\",covid19_data_frame$`confirmed.population.ratio`))\n",
    "    \n",
    "    return(covid19_data_frame)\n",
    "}\n",
    "\n"
   ]
  },
  {
   "cell_type": "markdown",
   "metadata": {},
   "source": [
    "Call the `preprocess_covid_data_frame` function\n"
   ]
  },
  {
   "cell_type": "code",
   "execution_count": 11,
   "metadata": {},
   "outputs": [
    {
     "ename": "ERROR",
     "evalue": "Error in preprocess_data_frame(covid19_data_frame): object 'covid19_data_frame' not found\n",
     "execution_count": 11,
     "output_type": "error",
     "traceback": [
      "Error in preprocess_data_frame(covid19_data_frame): object 'covid19_data_frame' not found\nTraceback:\n",
      "1. preprocess_data_frame(covid19_data_frame)"
     ]
    }
   ],
   "source": [
    "covid_new = preprocess_data_frame(covid19_data_frame)\n",
    "covid_new"
   ]
  },
  {
   "cell_type": "markdown",
   "metadata": {},
   "source": [
    "Get the summary of the processed data frame again\n"
   ]
  },
  {
   "cell_type": "code",
   "execution_count": null,
   "metadata": {},
   "outputs": [],
   "source": [
    "# Print the summary of the processed data frame again"
   ]
  },
  {
   "cell_type": "markdown",
   "metadata": {},
   "source": [
    "After pre-processing, you can see the columns and columns names are simplified, and columns types are converted into correct types.\n"
   ]
  },
  {
   "cell_type": "markdown",
   "metadata": {},
   "source": [
    "The data frame has following columns:\n",
    "\n",
    "*   **country** - The name of the country\n",
    "*   **date** - Reported date\n",
    "*   **tested** - Total tested cases by the reported date\n",
    "*   **confirmed** - Total confirmed cases by the reported date\n",
    "*   **confirmed.tested.ratio** - The ratio of confirmed cases to the tested cases\n",
    "*   **tested.population.ratio** - The ratio of tested cases to the population of the country\n",
    "*   **confirmed.population.ratio** - The ratio of confirmed cases to the population of the country\n"
   ]
  },
  {
   "cell_type": "markdown",
   "metadata": {},
   "source": [
    "OK, we can call `write.csv()` function to save the csv file into a file.\n"
   ]
  },
  {
   "cell_type": "code",
   "execution_count": null,
   "metadata": {},
   "outputs": [],
   "source": [
    "# Export the data frame to a csv file"
   ]
  },
  {
   "cell_type": "markdown",
   "metadata": {},
   "source": [
    "Note for IBM Waston Studio, there is no traditional \"hard disk\" associated with a R workspace.\n",
    "\n",
    "Even if you call `write.csv()` method to save the data frame as a csv file, it won't be shown in IBM Cloud Object Storage asset UI automatically.\n",
    "\n",
    "However, you may still check if the `covid.csv` exists using following code snippet:\n"
   ]
  },
  {
   "cell_type": "code",
   "execution_count": null,
   "metadata": {},
   "outputs": [],
   "source": [
    "# Get working directory\n",
    "wd <- getwd()\n",
    "# Get exported \n",
    "file_path <- paste(wd, sep=\"\", \"/covid.csv\")\n",
    "# File path\n",
    "print(file_path)\n",
    "file.exists(file_path)"
   ]
  },
  {
   "cell_type": "markdown",
   "metadata": {},
   "source": [
    "**Optional Step**: If you have difficulties finishing above webscraping tasks, you may still continue with next tasks by downloading a provided csv file from here:\n"
   ]
  },
  {
   "cell_type": "code",
   "execution_count": null,
   "metadata": {},
   "outputs": [],
   "source": [
    "## Download a sample csv file\n",
    "# covid_csv_file <- download.file(\"https://cf-courses-data.s3.us.cloud-object-storage.appdomain.cloud/IBMDeveloperSkillsNetwork-RP0101EN-Coursera/v2/dataset/covid.csv\", destfile=\"covid.csv\")\n",
    "# covid_data_frame_csv <- read.csv(\"covid.csv\", header=TRUE, sep=\",\")"
   ]
  },
  {
   "cell_type": "markdown",
   "metadata": {},
   "source": [
    "## TASK 4: Get a subset of the extracted data frame\n",
    "\n",
    "The goal of task 4 is to get the 5th to 10th rows from the data frame with only `country` and `confirmed` columns selected\n"
   ]
  },
  {
   "cell_type": "code",
   "execution_count": null,
   "metadata": {},
   "outputs": [],
   "source": [
    "# Read covid_data_frame_csv from the csv file\n",
    "\n",
    "# Get the 5th to 10th rows, with two \"country\" \"confirmed\" columns\n"
   ]
  },
  {
   "cell_type": "markdown",
   "metadata": {},
   "source": [
    "## TASK 5: Calculate worldwide COVID testing positive ratio\n",
    "\n",
    "The goal of task 5 is to get the total confirmed and tested cases worldwide, and try to figure the overall positive ratio using `confirmed cases / tested cases`\n"
   ]
  },
  {
   "cell_type": "code",
   "execution_count": null,
   "metadata": {},
   "outputs": [],
   "source": [
    "# Get the total confirmed cases worldwide\n",
    "\n",
    "# Get the total tested cases worldwide\n",
    "\n",
    "# Get the positive ratio (confirmed / tested)\n"
   ]
  },
  {
   "cell_type": "markdown",
   "metadata": {},
   "source": [
    "## TASK 6: Get a country list which reported their testing data\n",
    "\n",
    "The goal of task 6 is to get a catalog or sorted list of countries who have reported their COVID-19 testing data\n"
   ]
  },
  {
   "cell_type": "code",
   "execution_count": null,
   "metadata": {},
   "outputs": [],
   "source": [
    "# Get the `country` column\n",
    "\n",
    "# Check its class (should be Factor)\n",
    "\n",
    "# Conver the country column into character so that you can easily sort them\n",
    "\n",
    "# Sort the countries AtoZ\n",
    "\n",
    "# Sort the countries ZtoA\n",
    "\n",
    "# Print the sorted ZtoA list\n"
   ]
  },
  {
   "cell_type": "markdown",
   "metadata": {},
   "source": [
    "## TASK 7: Identify countries names with a specific pattern\n",
    "\n",
    "The goal of task 7 is using a regular expression to find any countires start with `United`\n"
   ]
  },
  {
   "cell_type": "code",
   "execution_count": null,
   "metadata": {},
   "outputs": [],
   "source": [
    "# Use a regular expression `United.+` to find matches\n",
    "\n",
    "# Print the matched country names\n"
   ]
  },
  {
   "cell_type": "markdown",
   "metadata": {},
   "source": [
    "## TASK 8: Pick two countries you are interested, and then review their testing data\n",
    "\n",
    "The goal of task 8 is to compare the COVID-19 test data between two countires, you will need to select two rows from the dataframe, and select `country`, `confirmed`, `confirmed-population-ratio` columns\n"
   ]
  },
  {
   "cell_type": "code",
   "execution_count": null,
   "metadata": {},
   "outputs": [],
   "source": [
    "# Select a subset (should be only one row) of data frame based on a selected country name and columns\n",
    "\n",
    "\n",
    "# Select a subset (should be only one row) of data frame based on a selected country name and columns\n"
   ]
  },
  {
   "cell_type": "markdown",
   "metadata": {},
   "source": [
    "## TASK 9: Compare which one of the selected countries has a larger ratio of confirmed cases to population\n",
    "\n",
    "The goal of task 9 is to find out which country you have selected before has larger ratio of confirmed cases to population, which may indicate that country has higher COVID-19 infection risk\n"
   ]
  },
  {
   "cell_type": "code",
   "execution_count": null,
   "metadata": {},
   "outputs": [],
   "source": [
    "# Use if-else statement\n",
    "# if (check which confirmed.population value is greater) {\n",
    "#    print()\n",
    "# } else {\n",
    "#    print()\n",
    "# }\n"
   ]
  },
  {
   "cell_type": "markdown",
   "metadata": {},
   "source": [
    "## TASK 10: Find countries with confirmed to population ratio rate less than a threshold\n",
    "\n",
    "The goal of task 10 is to find out which countries have the confirmed to population ratio less than 1%, it may indicate the risk of those countries are relatively low\n"
   ]
  },
  {
   "cell_type": "code",
   "execution_count": null,
   "metadata": {},
   "outputs": [],
   "source": [
    "# Get a subset of any countries with `confirmed.population.ratio` less than the threshold\n"
   ]
  }
 ],
 "metadata": {
  "kernelspec": {
   "display_name": "R",
   "language": "R",
   "name": "conda-env-r-r"
  },
  "language_info": {
   "codemirror_mode": "r",
   "file_extension": ".r",
   "mimetype": "text/x-r-source",
   "name": "R",
   "pygments_lexer": "r",
   "version": "3.5.1"
  }
 },
 "nbformat": 4,
 "nbformat_minor": 4
}
